{
  "nbformat": 4,
  "nbformat_minor": 0,
  "metadata": {
    "colab": {
      "name": "Salinan dari Conditional_and_Looping.ipynb",
      "provenance": []
    },
    "kernelspec": {
      "name": "python3",
      "display_name": "Python 3"
    },
    "language_info": {
      "name": "python"
    }
  },
  "cells": [
    {
      "cell_type": "markdown",
      "source": [
        "## Variable"
      ],
      "metadata": {
        "id": "krrHTIkJR5L5"
      }
    },
    {
      "cell_type": "code",
      "execution_count": null,
      "metadata": {
        "id": "OZxlNrM-QuH2"
      },
      "outputs": [],
      "source": [
        "x = 'halo'"
      ]
    },
    {
      "cell_type": "code",
      "source": [
        "x"
      ],
      "metadata": {
        "colab": {
          "base_uri": "https://localhost:8080/",
          "height": 35
        },
        "id": "KIiMwCS_T5Ar",
        "outputId": "0c5b5ce8-baeb-4f57-c3a6-b83dde397f0f"
      },
      "execution_count": null,
      "outputs": [
        {
          "output_type": "execute_result",
          "data": {
            "text/plain": [
              "'halo'"
            ],
            "application/vnd.google.colaboratory.intrinsic+json": {
              "type": "string"
            }
          },
          "metadata": {},
          "execution_count": 3
        }
      ]
    },
    {
      "cell_type": "code",
      "source": [
        "y = 30\n",
        "y"
      ],
      "metadata": {
        "colab": {
          "base_uri": "https://localhost:8080/"
        },
        "id": "l4fE-d87T82T",
        "outputId": "f5bb3675-44ab-47b7-8c7c-41a04262076c"
      },
      "execution_count": null,
      "outputs": [
        {
          "output_type": "execute_result",
          "data": {
            "text/plain": [
              "30"
            ]
          },
          "metadata": {},
          "execution_count": 6
        }
      ]
    },
    {
      "cell_type": "code",
      "source": [
        "k = 50\n",
        "k"
      ],
      "metadata": {
        "colab": {
          "base_uri": "https://localhost:8080/"
        },
        "id": "BmGDekDdUILC",
        "outputId": "1b23e660-af6d-43ff-dba6-ea4864884dd5"
      },
      "execution_count": null,
      "outputs": [
        {
          "output_type": "execute_result",
          "data": {
            "text/plain": [
              "50"
            ]
          },
          "metadata": {},
          "execution_count": 10
        }
      ]
    },
    {
      "cell_type": "markdown",
      "source": [
        "## Conditional"
      ],
      "metadata": {
        "id": "VTlhT1onR70y"
      }
    },
    {
      "cell_type": "code",
      "source": [
        "if False:\n",
        "  a = 5\n",
        "  b = 2\n",
        "  jumlah = a + b\n",
        "  print(jumlah)"
      ],
      "metadata": {
        "id": "fDnNN0UNR8eA"
      },
      "execution_count": null,
      "outputs": []
    },
    {
      "cell_type": "code",
      "source": [
        "angka = 20\n",
        "\n",
        "if angka > 30:\n",
        "  print(f'{angka} lebih besar dari 30')"
      ],
      "metadata": {
        "id": "jC2oPrjNXKvG"
      },
      "execution_count": null,
      "outputs": []
    },
    {
      "cell_type": "code",
      "source": [
        "20 > 30"
      ],
      "metadata": {
        "colab": {
          "base_uri": "https://localhost:8080/"
        },
        "id": "5-B2PVXbXx-k",
        "outputId": "099163a4-7f3b-45ca-dce7-1633db0cd545"
      },
      "execution_count": null,
      "outputs": [
        {
          "output_type": "execute_result",
          "data": {
            "text/plain": [
              "False"
            ]
          },
          "metadata": {},
          "execution_count": 20
        }
      ]
    },
    {
      "cell_type": "code",
      "source": [
        "35 > 30"
      ],
      "metadata": {
        "colab": {
          "base_uri": "https://localhost:8080/"
        },
        "id": "XMq7AVNEX3C0",
        "outputId": "6d198eb5-094b-49d1-856b-b559a631d72a"
      },
      "execution_count": null,
      "outputs": [
        {
          "output_type": "execute_result",
          "data": {
            "text/plain": [
              "True"
            ]
          },
          "metadata": {},
          "execution_count": 21
        }
      ]
    },
    {
      "cell_type": "code",
      "source": [
        "angka = 10\n",
        "\n",
        "if angka > 30:\n",
        "  print(f'{angka} lebih besar dari 30')\n",
        "elif angka == 30:\n",
        "  print(f'{angka} sama dengan 30')\n",
        "elif angka > 20:\n",
        "  print(f'{angka} lebih besar dari 20')\n",
        "else:\n",
        "  print(f'{angka} lebih kecil dari 30')"
      ],
      "metadata": {
        "colab": {
          "base_uri": "https://localhost:8080/"
        },
        "id": "ZhZSQP62YHsK",
        "outputId": "058e5b1f-710a-4815-da26-90f5dd4343de"
      },
      "execution_count": null,
      "outputs": [
        {
          "output_type": "stream",
          "name": "stdout",
          "text": [
            "10 lebih kecil dari 30\n"
          ]
        }
      ]
    },
    {
      "cell_type": "markdown",
      "source": [
        "- A = [80 - 100]\n",
        "- B = [70 - 80)\n",
        "- C = [60 - 70)\n",
        "- D = [45 - 60)\n",
        "- E = [0 - 45)"
      ],
      "metadata": {
        "id": "Sjcmq3_KbkkL"
      }
    },
    {
      "cell_type": "code",
      "source": [
        "# a.v\n",
        "nilai = 110\n",
        "if nilai<45:\n",
        "    print('E')\n",
        "elif nilai<60:\n",
        "    print('D')\n",
        "elif nilai<70:\n",
        "    print('C')\n",
        "elif nilai<80:\n",
        "    print('B')\n",
        "else: \n",
        "    print('A')\n"
      ],
      "metadata": {
        "colab": {
          "base_uri": "https://localhost:8080/"
        },
        "id": "EhPo_ygAbdMN",
        "outputId": "f523cb04-54b1-4d2f-85c9-8fd6aa507013"
      },
      "execution_count": null,
      "outputs": [
        {
          "output_type": "stream",
          "name": "stdout",
          "text": [
            "A\n"
          ]
        }
      ]
    },
    {
      "cell_type": "code",
      "source": [
        "# a.i.i\n",
        "nilai = float(input('Masukkan nilai : '))\n",
        "\n",
        "if 80<=nilai<=100:\n",
        "    print('Nilai anda adalah A')\n",
        "elif 70<=nilai<80:\n",
        "    print('Nilai anda adalah B')\n",
        "elif 60<=nilai<70:\n",
        "    print('Nilai anda adalah C')\n",
        "elif 45<=nilai<60:\n",
        "    print('Nilai anda adalah D')\n",
        "else: \n",
        "    print('Nilai anda adalah E')\n"
      ],
      "metadata": {
        "colab": {
          "base_uri": "https://localhost:8080/"
        },
        "id": "8tH_d4_edMzf",
        "outputId": "89466a65-6ecc-4d9a-a34c-0e6a6d0573a2"
      },
      "execution_count": null,
      "outputs": [
        {
          "output_type": "stream",
          "name": "stdout",
          "text": [
            "Masukkan nilai : 1\n",
            "Nilai anda adalah E\n"
          ]
        }
      ]
    },
    {
      "cell_type": "code",
      "source": [
        "# Nested if\n",
        "# A = [80 - 100]\n",
        "# B = [70 - 80)\n",
        "# C = [60 - 70)\n",
        "# D = [45 - 60)\n",
        "# E = [0 - 45)\n",
        "nilai = 50\n",
        "\n",
        "if 0<=nilai<=100:\n",
        "  if nilai >= 80:\n",
        "    print('A')\n",
        "  elif nilai >= 70:\n",
        "    print('B')\n",
        "  elif nilai >=60:\n",
        "    print('C')\n",
        "  elif nilai >= 45:\n",
        "    print('D')\n",
        "  elif nilai >= 0:\n",
        "    print('E')\n",
        "else:\n",
        "  print('nilai tidak valid')"
      ],
      "metadata": {
        "colab": {
          "base_uri": "https://localhost:8080/"
        },
        "id": "b3HE-VNWdtY-",
        "outputId": "cbccab85-1586-4365-b086-1ee2cdce0470"
      },
      "execution_count": null,
      "outputs": [
        {
          "output_type": "stream",
          "name": "stdout",
          "text": [
            "D\n"
          ]
        }
      ]
    },
    {
      "cell_type": "code",
      "source": [
        "# n.s\n",
        "angka = 10\n",
        "if angka % 2 == 0:\n",
        "    print(f'{angka} merupakan Angka Genap')\n",
        "else:\n",
        "    print(f'{angka} merupakan Angka ganjil')\n"
      ],
      "metadata": {
        "colab": {
          "base_uri": "https://localhost:8080/"
        },
        "id": "QOmTaCV3fAmF",
        "outputId": "1a8516d1-fe4e-447b-cc7f-da8f1ac636c0"
      },
      "execution_count": null,
      "outputs": [
        {
          "output_type": "stream",
          "name": "stdout",
          "text": [
            "10 merupakan Angka Genap\n"
          ]
        }
      ]
    },
    {
      "cell_type": "code",
      "source": [
        "cities = ('Madura', 'Majalengka', 'Balik Papan')\n",
        "nama_kota = 'Madura'\n",
        "\n",
        "if nama_kota in cities:\n",
        "  print(f'{nama_kota} merupakan kelompok dari cities')\n",
        "else:\n",
        "  print(f'{nama_kota} bukan merupakan kelompok dari cities')"
      ],
      "metadata": {
        "colab": {
          "base_uri": "https://localhost:8080/"
        },
        "id": "RAjY2wqZgON0",
        "outputId": "1633824b-baae-4ced-9e88-3a680b91183b"
      },
      "execution_count": null,
      "outputs": [
        {
          "output_type": "stream",
          "name": "stdout",
          "text": [
            "Madura merupakan kelompok dari cities\n"
          ]
        }
      ]
    },
    {
      "cell_type": "code",
      "source": [
        "nama_kota in cities"
      ],
      "metadata": {
        "colab": {
          "base_uri": "https://localhost:8080/"
        },
        "id": "mH6OsVYNg0Xf",
        "outputId": "eda19c61-61a5-4d4e-8dbd-364a2c75391c"
      },
      "execution_count": null,
      "outputs": [
        {
          "output_type": "execute_result",
          "data": {
            "text/plain": [
              "False"
            ]
          },
          "metadata": {},
          "execution_count": 62
        }
      ]
    },
    {
      "cell_type": "markdown",
      "source": [
        "## Looping"
      ],
      "metadata": {
        "id": "_h3fDcSEg_JJ"
      }
    },
    {
      "cell_type": "markdown",
      "source": [
        "### While Loop"
      ],
      "metadata": {
        "id": "UPXryt6nhBtG"
      }
    },
    {
      "cell_type": "code",
      "source": [
        "while True:\n",
        "  print('test')"
      ],
      "metadata": {
        "id": "-WcHH2puhBYD"
      },
      "execution_count": null,
      "outputs": []
    },
    {
      "cell_type": "code",
      "source": [
        "i = 0\n",
        "\n",
        "while i < 5:\n",
        "  print(i)\n",
        "  i = i + 1"
      ],
      "metadata": {
        "colab": {
          "base_uri": "https://localhost:8080/"
        },
        "id": "y1BLkcrKimKe",
        "outputId": "1fe6b186-8bc3-4174-98fd-b28a7de5b302"
      },
      "execution_count": null,
      "outputs": [
        {
          "output_type": "stream",
          "name": "stdout",
          "text": [
            "0\n",
            "1\n",
            "2\n",
            "3\n",
            "4\n"
          ]
        }
      ]
    },
    {
      "cell_type": "code",
      "source": [
        "angka = 0"
      ],
      "metadata": {
        "id": "B5Kdy-bnjCNz"
      },
      "execution_count": null,
      "outputs": []
    },
    {
      "cell_type": "code",
      "source": [
        "angka = angka + 1\n",
        "angka"
      ],
      "metadata": {
        "colab": {
          "base_uri": "https://localhost:8080/"
        },
        "id": "1GaTlCaIjH8U",
        "outputId": "f4abfc41-8e77-488e-8af9-9a0d3d46804c"
      },
      "execution_count": null,
      "outputs": [
        {
          "output_type": "execute_result",
          "data": {
            "text/plain": [
              "8"
            ]
          },
          "metadata": {},
          "execution_count": 75
        }
      ]
    },
    {
      "cell_type": "code",
      "source": [
        "i = 1\n",
        "\n",
        "while i <= 10:\n",
        "  print(f'5 x {i} = {5 * i}')\n",
        "  i = i + 1"
      ],
      "metadata": {
        "colab": {
          "base_uri": "https://localhost:8080/"
        },
        "id": "ar-kyzmOk7b0",
        "outputId": "1fcf38b1-fc27-47c8-d251-b737cdae325d"
      },
      "execution_count": null,
      "outputs": [
        {
          "output_type": "stream",
          "name": "stdout",
          "text": [
            "5 x 1 = 5\n",
            "5 x 2 = 10\n",
            "5 x 3 = 15\n",
            "5 x 4 = 20\n",
            "5 x 5 = 25\n",
            "5 x 6 = 30\n",
            "5 x 7 = 35\n",
            "5 x 8 = 40\n",
            "5 x 9 = 45\n",
            "5 x 10 = 50\n"
          ]
        }
      ]
    },
    {
      "cell_type": "code",
      "source": [
        "i = 1\n",
        "j = 1\n",
        "\n",
        "while i <= 10:\n",
        "  j = 1\n",
        "  while j <= 10:\n",
        "    print(f'{i} x {j} = {i * j}')\n",
        "    j = j + 1\n",
        "  print('-'*10)\n",
        "  i = i + 1"
      ],
      "metadata": {
        "colab": {
          "base_uri": "https://localhost:8080/"
        },
        "id": "oosM3i5cl7Yf",
        "outputId": "4a11642c-9a23-4c86-f176-9f3d42d6d4a3"
      },
      "execution_count": null,
      "outputs": [
        {
          "output_type": "stream",
          "name": "stdout",
          "text": [
            "1 x 1 = 1\n",
            "1 x 2 = 2\n",
            "1 x 3 = 3\n",
            "1 x 4 = 4\n",
            "1 x 5 = 5\n",
            "1 x 6 = 6\n",
            "1 x 7 = 7\n",
            "1 x 8 = 8\n",
            "1 x 9 = 9\n",
            "1 x 10 = 10\n",
            "----------\n",
            "2 x 1 = 2\n",
            "2 x 2 = 4\n",
            "2 x 3 = 6\n",
            "2 x 4 = 8\n",
            "2 x 5 = 10\n",
            "2 x 6 = 12\n",
            "2 x 7 = 14\n",
            "2 x 8 = 16\n",
            "2 x 9 = 18\n",
            "2 x 10 = 20\n",
            "----------\n",
            "3 x 1 = 3\n",
            "3 x 2 = 6\n",
            "3 x 3 = 9\n",
            "3 x 4 = 12\n",
            "3 x 5 = 15\n",
            "3 x 6 = 18\n",
            "3 x 7 = 21\n",
            "3 x 8 = 24\n",
            "3 x 9 = 27\n",
            "3 x 10 = 30\n",
            "----------\n",
            "4 x 1 = 4\n",
            "4 x 2 = 8\n",
            "4 x 3 = 12\n",
            "4 x 4 = 16\n",
            "4 x 5 = 20\n",
            "4 x 6 = 24\n",
            "4 x 7 = 28\n",
            "4 x 8 = 32\n",
            "4 x 9 = 36\n",
            "4 x 10 = 40\n",
            "----------\n",
            "5 x 1 = 5\n",
            "5 x 2 = 10\n",
            "5 x 3 = 15\n",
            "5 x 4 = 20\n",
            "5 x 5 = 25\n",
            "5 x 6 = 30\n",
            "5 x 7 = 35\n",
            "5 x 8 = 40\n",
            "5 x 9 = 45\n",
            "5 x 10 = 50\n",
            "----------\n",
            "6 x 1 = 6\n",
            "6 x 2 = 12\n",
            "6 x 3 = 18\n",
            "6 x 4 = 24\n",
            "6 x 5 = 30\n",
            "6 x 6 = 36\n",
            "6 x 7 = 42\n",
            "6 x 8 = 48\n",
            "6 x 9 = 54\n",
            "6 x 10 = 60\n",
            "----------\n",
            "7 x 1 = 7\n",
            "7 x 2 = 14\n",
            "7 x 3 = 21\n",
            "7 x 4 = 28\n",
            "7 x 5 = 35\n",
            "7 x 6 = 42\n",
            "7 x 7 = 49\n",
            "7 x 8 = 56\n",
            "7 x 9 = 63\n",
            "7 x 10 = 70\n",
            "----------\n",
            "8 x 1 = 8\n",
            "8 x 2 = 16\n",
            "8 x 3 = 24\n",
            "8 x 4 = 32\n",
            "8 x 5 = 40\n",
            "8 x 6 = 48\n",
            "8 x 7 = 56\n",
            "8 x 8 = 64\n",
            "8 x 9 = 72\n",
            "8 x 10 = 80\n",
            "----------\n",
            "9 x 1 = 9\n",
            "9 x 2 = 18\n",
            "9 x 3 = 27\n",
            "9 x 4 = 36\n",
            "9 x 5 = 45\n",
            "9 x 6 = 54\n",
            "9 x 7 = 63\n",
            "9 x 8 = 72\n",
            "9 x 9 = 81\n",
            "9 x 10 = 90\n",
            "----------\n",
            "10 x 1 = 10\n",
            "10 x 2 = 20\n",
            "10 x 3 = 30\n",
            "10 x 4 = 40\n",
            "10 x 5 = 50\n",
            "10 x 6 = 60\n",
            "10 x 7 = 70\n",
            "10 x 8 = 80\n",
            "10 x 9 = 90\n",
            "10 x 10 = 100\n",
            "----------\n"
          ]
        }
      ]
    },
    {
      "cell_type": "markdown",
      "source": [
        "### For Loop"
      ],
      "metadata": {
        "id": "OUQiJlwhhHUT"
      }
    },
    {
      "cell_type": "code",
      "source": [
        "cities = list(cities)\n",
        "cities"
      ],
      "metadata": {
        "colab": {
          "base_uri": "https://localhost:8080/"
        },
        "id": "WX8dMsBphJ86",
        "outputId": "21146e4b-2976-45f3-dd6a-7cd2a1be0746"
      },
      "execution_count": null,
      "outputs": [
        {
          "output_type": "execute_result",
          "data": {
            "text/plain": [
              "['Madura', 'Majalengka', 'Balik Papan']"
            ]
          },
          "metadata": {},
          "execution_count": 90
        }
      ]
    },
    {
      "cell_type": "code",
      "source": [
        "for kota in cities:\n",
        "  print(kota)"
      ],
      "metadata": {
        "colab": {
          "base_uri": "https://localhost:8080/"
        },
        "id": "lMcJ4aAeonXl",
        "outputId": "5b4be2f6-3993-4645-f260-bd5c09d932a0"
      },
      "execution_count": null,
      "outputs": [
        {
          "output_type": "stream",
          "name": "stdout",
          "text": [
            "Madura\n",
            "Majalengka\n",
            "Balik Papan\n"
          ]
        }
      ]
    },
    {
      "cell_type": "code",
      "source": [
        "len(cities)"
      ],
      "metadata": {
        "colab": {
          "base_uri": "https://localhost:8080/"
        },
        "id": "UJu2-AaKr46F",
        "outputId": "fa54fb0b-8f66-454b-b2f5-78c98919ec29"
      },
      "execution_count": null,
      "outputs": [
        {
          "output_type": "execute_result",
          "data": {
            "text/plain": [
              "3"
            ]
          },
          "metadata": {},
          "execution_count": 105
        }
      ]
    },
    {
      "cell_type": "code",
      "source": [
        "i = 0\n",
        "\n",
        "while i < len(cities):\n",
        "  print(cities[i])\n",
        "  i += 1                  # i = i + 1"
      ],
      "metadata": {
        "colab": {
          "base_uri": "https://localhost:8080/"
        },
        "id": "D7nnqD-CruWA",
        "outputId": "95e4473e-95b8-430d-e552-1486a68fcc42"
      },
      "execution_count": null,
      "outputs": [
        {
          "output_type": "stream",
          "name": "stdout",
          "text": [
            "Madura\n",
            "Majalengka\n",
            "Balik Papan\n"
          ]
        }
      ]
    },
    {
      "cell_type": "code",
      "source": [
        "i = 0\n",
        "type(i)"
      ],
      "metadata": {
        "colab": {
          "base_uri": "https://localhost:8080/"
        },
        "id": "M1E1QD5Ss_oQ",
        "outputId": "14ee161d-2608-46ac-87eb-605dfbe44da2"
      },
      "execution_count": null,
      "outputs": [
        {
          "output_type": "execute_result",
          "data": {
            "text/plain": [
              "int"
            ]
          },
          "metadata": {},
          "execution_count": 112
        }
      ]
    },
    {
      "cell_type": "code",
      "source": [
        "i = i + 1\n",
        "i"
      ],
      "metadata": {
        "colab": {
          "base_uri": "https://localhost:8080/"
        },
        "id": "9HFeTspFtJwx",
        "outputId": "0bd6d618-8915-4799-a813-f3250d600453"
      },
      "execution_count": null,
      "outputs": [
        {
          "output_type": "execute_result",
          "data": {
            "text/plain": [
              "3"
            ]
          },
          "metadata": {},
          "execution_count": 115
        }
      ]
    },
    {
      "cell_type": "code",
      "source": [
        "i += 1\n",
        "i"
      ],
      "metadata": {
        "colab": {
          "base_uri": "https://localhost:8080/"
        },
        "id": "qEyZGhPTtTZZ",
        "outputId": "3b0518b0-79b7-4f7b-e498-437a718b651d"
      },
      "execution_count": null,
      "outputs": [
        {
          "output_type": "execute_result",
          "data": {
            "text/plain": [
              "6"
            ]
          },
          "metadata": {},
          "execution_count": 118
        }
      ]
    },
    {
      "cell_type": "code",
      "source": [
        "p = 7.8\n",
        "type(p)"
      ],
      "metadata": {
        "colab": {
          "base_uri": "https://localhost:8080/"
        },
        "id": "i_680hf4td87",
        "outputId": "2c839d36-9f3a-441e-dd42-ec9bf962ec9d"
      },
      "execution_count": null,
      "outputs": [
        {
          "output_type": "execute_result",
          "data": {
            "text/plain": [
              "float"
            ]
          },
          "metadata": {},
          "execution_count": 121
        }
      ]
    },
    {
      "cell_type": "code",
      "source": [
        "for idx in range(len(cities)):\n",
        "  print(cities[idx])"
      ],
      "metadata": {
        "colab": {
          "base_uri": "https://localhost:8080/"
        },
        "id": "7gWAUjI6sXHX",
        "outputId": "38b2289a-7bea-4e63-93b5-55750377b5ef"
      },
      "execution_count": null,
      "outputs": [
        {
          "output_type": "stream",
          "name": "stdout",
          "text": [
            "Madura\n",
            "Majalengka\n",
            "Balik Papan\n"
          ]
        }
      ]
    },
    {
      "cell_type": "code",
      "source": [
        "for i in range(1,11):\n",
        "  print(f'5*{i} = {5*i}')"
      ],
      "metadata": {
        "colab": {
          "base_uri": "https://localhost:8080/"
        },
        "id": "YbTPtSMQqQn-",
        "outputId": "1acd1213-644b-4b0a-fb5a-0d9d5c05f9ed"
      },
      "execution_count": null,
      "outputs": [
        {
          "output_type": "stream",
          "name": "stdout",
          "text": [
            "5*1 = 5\n",
            "5*2 = 10\n",
            "5*3 = 15\n",
            "5*4 = 20\n",
            "5*5 = 25\n",
            "5*6 = 30\n",
            "5*7 = 35\n",
            "5*8 = 40\n",
            "5*9 = 45\n",
            "5*10 = 50\n"
          ]
        }
      ]
    },
    {
      "cell_type": "code",
      "source": [
        "# Nested for loop\n",
        "\n",
        "for i in range(1,11):\n",
        "  for j in range(1,11):\n",
        "    print(f'{i} x {j} = {i*j}')\n",
        "  print('-'*10)"
      ],
      "metadata": {
        "id": "gu7Y8fqyrHlN"
      },
      "execution_count": null,
      "outputs": []
    },
    {
      "cell_type": "code",
      "source": [
        "type(range(1, 11))"
      ],
      "metadata": {
        "colab": {
          "base_uri": "https://localhost:8080/"
        },
        "id": "e1DP6m1UqZB-",
        "outputId": "4f086633-ed92-4ad1-a360-62249d2358f7"
      },
      "execution_count": null,
      "outputs": [
        {
          "output_type": "execute_result",
          "data": {
            "text/plain": [
              "range"
            ]
          },
          "metadata": {},
          "execution_count": 99
        }
      ]
    },
    {
      "cell_type": "code",
      "source": [
        "list(range(1, 11))"
      ],
      "metadata": {
        "colab": {
          "base_uri": "https://localhost:8080/"
        },
        "id": "6QFii5-wqhwR",
        "outputId": "6bf14781-b7da-4836-9b0c-dd79bd63083d"
      },
      "execution_count": null,
      "outputs": [
        {
          "output_type": "execute_result",
          "data": {
            "text/plain": [
              "[1, 2, 3, 4, 5, 6, 7, 8, 9, 10]"
            ]
          },
          "metadata": {},
          "execution_count": 98
        }
      ]
    },
    {
      "cell_type": "markdown",
      "source": [
        "## Flow Control Statement"
      ],
      "metadata": {
        "id": "cN7tDeb2svQv"
      }
    },
    {
      "cell_type": "code",
      "source": [
        "for i in range(1,11):\n",
        "  if i in [4,6,7]:\n",
        "    continue\n",
        "  print(i)"
      ],
      "metadata": {
        "colab": {
          "base_uri": "https://localhost:8080/"
        },
        "id": "kAjtTTEYt3GR",
        "outputId": "f52327c4-f50c-4cae-8ea8-72827fb6f0f5"
      },
      "execution_count": null,
      "outputs": [
        {
          "output_type": "stream",
          "name": "stdout",
          "text": [
            "1\n",
            "2\n",
            "3\n",
            "5\n",
            "8\n",
            "9\n",
            "10\n"
          ]
        }
      ]
    },
    {
      "cell_type": "code",
      "source": [
        "nilai = [70, 34, 29,99, 57, 46, 87]\n",
        "grade = []\n",
        "for i in nilai:\n",
        "  if 0<=i<=100:\n",
        "    if i >= 80:\n",
        "      print('A')\n",
        "      grade.append('A')\n",
        "    elif i >= 70:\n",
        "      print('B')\n",
        "      grade.append('B')\n",
        "    elif i >=60:\n",
        "      print('C')\n",
        "      grade.append('C')\n",
        "    elif i >= 45:\n",
        "      print('D')\n",
        "      grade.append('D')\n",
        "    elif i >= 0:\n",
        "      print('E')\n",
        "      grade.append('E')\n",
        "  else:\n",
        "    print('nilai tidak valid')\n",
        "\n",
        "grade"
      ],
      "metadata": {
        "colab": {
          "base_uri": "https://localhost:8080/"
        },
        "id": "c3DipyXlyFrD",
        "outputId": "ebd1d7cb-aac4-4d9c-8bcb-c4a802c9a317"
      },
      "execution_count": null,
      "outputs": [
        {
          "output_type": "stream",
          "name": "stdout",
          "text": [
            "B\n",
            "E\n",
            "E\n",
            "A\n",
            "D\n",
            "D\n",
            "A\n"
          ]
        },
        {
          "output_type": "execute_result",
          "data": {
            "text/plain": [
              "['B', 'E', 'E', 'A', 'D', 'D', 'A']"
            ]
          },
          "metadata": {},
          "execution_count": 133
        }
      ]
    },
    {
      "cell_type": "code",
      "source": [
        "print(nilai)\n",
        "print(grade)"
      ],
      "metadata": {
        "colab": {
          "base_uri": "https://localhost:8080/"
        },
        "id": "AXKhWtWQywao",
        "outputId": "5b819a2d-4b44-4a06-f88b-32d24db24974"
      },
      "execution_count": null,
      "outputs": [
        {
          "output_type": "stream",
          "name": "stdout",
          "text": [
            "[70, 34, 29, 99, 57, 46, 87]\n",
            "['B', 'E', 'E', 'A', 'D', 'D', 'A']\n"
          ]
        }
      ]
    }
  ]
}